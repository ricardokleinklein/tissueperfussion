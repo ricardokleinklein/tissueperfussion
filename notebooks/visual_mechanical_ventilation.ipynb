{
 "cells": [
  {
   "cell_type": "markdown",
   "source": [
    "# Admissions - Mechanical Ventilation\n",
    "\n",
    "## Step-by-step retrieval and filtering of data\n",
    "\n",
    "### 1. Imports and database construction"
   ],
   "metadata": {
    "collapsed": false
   }
  },
  {
   "cell_type": "code",
   "execution_count": 4,
   "outputs": [
    {
     "name": "stdout",
     "output_type": "stream",
     "text": [
      "Connection to SQLite DB successful\n"
     ]
    }
   ],
   "source": [
    "import pandas\n",
    "\n",
    "from database import SQLConnection\n",
    "from tqdm import tqdm\n",
    "\n",
    "from typing import Dict\n",
    "\n",
    "pandas.options.mode.chained_assignment = None  # default='warn'\n",
    "\n",
    "sql_server = SQLConnection('../amsterdamumcdb.db')    # open local server"
   ],
   "metadata": {
    "collapsed": false
   }
  },
  {
   "cell_type": "markdown",
   "source": [
    "### 2. Retrieve only ICU admissions"
   ],
   "metadata": {
    "collapsed": false
   }
  },
  {
   "cell_type": "code",
   "execution_count": 6,
   "outputs": [
    {
     "data": {
      "text/plain": "       patientid  admissionid  admissioncount location  urgency  \\\n0              0            0               1       IC        0   \n1              1            1               1       IC        0   \n2              2            2               1       IC        1   \n3              3            3               1       IC        0   \n5              5            5               1       IC        1   \n...          ...          ...             ...      ...      ...   \n23096      20317        23543               1       IC        0   \n23099      20320        23546               1       IC        1   \n23100      20321        23547               1       IC        1   \n23103      20324        23550               1       IC        1   \n23104      20325        23551               1       IC        1   \n\n                                       origin  admittedat admissionyeargroup  \\\n0                                        None           0          2003-2009   \n1                                        None           0          2010-2016   \n2      Eerste Hulp afdeling zelfde ziekenhuis           0          2010-2016   \n3                                        None           0          2003-2009   \n5      Eerste Hulp afdeling zelfde ziekenhuis           0          2010-2016   \n...                                       ...         ...                ...   \n23096                                    None           0          2003-2009   \n23099  Eerste Hulp afdeling zelfde ziekenhuis           0          2010-2016   \n23100                                    None           0          2003-2009   \n23103  Eerste Hulp afdeling zelfde ziekenhuis           0          2010-2016   \n23104                                    None           0          2003-2009   \n\n       dischargedat  lengthofstay destination gender agegroup   dateofdeath  \\\n0         148800000            42          16  Vrouw      80+           NaN   \n1          96120000            26          15    Man    60-69           NaN   \n2          84240000            23          15    Man    60-69           NaN   \n3          84900000            23          14    Man    50-59           NaN   \n5         246420000            69          31    Man    50-59           NaN   \n...             ...           ...         ...    ...      ...           ...   \n23096      76680000            22          15   None    70-79  2.888758e+11   \n23099     351900000            98           4    Man    60-69  7.254600e+08   \n23100     267780000            75   Overleden  Vrouw    70-79  2.029800e+08   \n23103      69720000            20   Overleden    Man      80+ -3.564000e+07   \n23104     165660000            46   Overleden  Vrouw    40-49  1.155000e+08   \n\n      weightgroup  weightsource heightgroup  heightsource        specialty  \n0           60-69  Anamnestisch     160-169  Anamnestisch  Cardiochirurgie  \n1           70-79  Anamnestisch     170-179  Anamnestisch  Cardiochirurgie  \n2           90-99  Anamnestisch     180-189  Anamnestisch  Cardiochirurgie  \n3           90-99          None     180-189       Gemeten  Cardiochirurgie  \n5           60-69       Geschat     160-169       Gemeten       Longziekte  \n...           ...           ...         ...           ...              ...  \n23096       90-99          None     170-179          None  Cardiochirurgie  \n23099       80-89       Geschat        190+       Geschat      Cardiologie  \n23100       80-89       Gemeten     160-169       Gemeten      Cardiologie  \n23103         59-       Geschat     170-179       Geschat         Inwendig  \n23104       60-69       Geschat     160-169       Geschat   Neurochirurgie  \n\n[16453 rows x 19 columns]",
      "text/html": "<div>\n<style scoped>\n    .dataframe tbody tr th:only-of-type {\n        vertical-align: middle;\n    }\n\n    .dataframe tbody tr th {\n        vertical-align: top;\n    }\n\n    .dataframe thead th {\n        text-align: right;\n    }\n</style>\n<table border=\"1\" class=\"dataframe\">\n  <thead>\n    <tr style=\"text-align: right;\">\n      <th></th>\n      <th>patientid</th>\n      <th>admissionid</th>\n      <th>admissioncount</th>\n      <th>location</th>\n      <th>urgency</th>\n      <th>origin</th>\n      <th>admittedat</th>\n      <th>admissionyeargroup</th>\n      <th>dischargedat</th>\n      <th>lengthofstay</th>\n      <th>destination</th>\n      <th>gender</th>\n      <th>agegroup</th>\n      <th>dateofdeath</th>\n      <th>weightgroup</th>\n      <th>weightsource</th>\n      <th>heightgroup</th>\n      <th>heightsource</th>\n      <th>specialty</th>\n    </tr>\n  </thead>\n  <tbody>\n    <tr>\n      <th>0</th>\n      <td>0</td>\n      <td>0</td>\n      <td>1</td>\n      <td>IC</td>\n      <td>0</td>\n      <td>None</td>\n      <td>0</td>\n      <td>2003-2009</td>\n      <td>148800000</td>\n      <td>42</td>\n      <td>16</td>\n      <td>Vrouw</td>\n      <td>80+</td>\n      <td>NaN</td>\n      <td>60-69</td>\n      <td>Anamnestisch</td>\n      <td>160-169</td>\n      <td>Anamnestisch</td>\n      <td>Cardiochirurgie</td>\n    </tr>\n    <tr>\n      <th>1</th>\n      <td>1</td>\n      <td>1</td>\n      <td>1</td>\n      <td>IC</td>\n      <td>0</td>\n      <td>None</td>\n      <td>0</td>\n      <td>2010-2016</td>\n      <td>96120000</td>\n      <td>26</td>\n      <td>15</td>\n      <td>Man</td>\n      <td>60-69</td>\n      <td>NaN</td>\n      <td>70-79</td>\n      <td>Anamnestisch</td>\n      <td>170-179</td>\n      <td>Anamnestisch</td>\n      <td>Cardiochirurgie</td>\n    </tr>\n    <tr>\n      <th>2</th>\n      <td>2</td>\n      <td>2</td>\n      <td>1</td>\n      <td>IC</td>\n      <td>1</td>\n      <td>Eerste Hulp afdeling zelfde ziekenhuis</td>\n      <td>0</td>\n      <td>2010-2016</td>\n      <td>84240000</td>\n      <td>23</td>\n      <td>15</td>\n      <td>Man</td>\n      <td>60-69</td>\n      <td>NaN</td>\n      <td>90-99</td>\n      <td>Anamnestisch</td>\n      <td>180-189</td>\n      <td>Anamnestisch</td>\n      <td>Cardiochirurgie</td>\n    </tr>\n    <tr>\n      <th>3</th>\n      <td>3</td>\n      <td>3</td>\n      <td>1</td>\n      <td>IC</td>\n      <td>0</td>\n      <td>None</td>\n      <td>0</td>\n      <td>2003-2009</td>\n      <td>84900000</td>\n      <td>23</td>\n      <td>14</td>\n      <td>Man</td>\n      <td>50-59</td>\n      <td>NaN</td>\n      <td>90-99</td>\n      <td>None</td>\n      <td>180-189</td>\n      <td>Gemeten</td>\n      <td>Cardiochirurgie</td>\n    </tr>\n    <tr>\n      <th>5</th>\n      <td>5</td>\n      <td>5</td>\n      <td>1</td>\n      <td>IC</td>\n      <td>1</td>\n      <td>Eerste Hulp afdeling zelfde ziekenhuis</td>\n      <td>0</td>\n      <td>2010-2016</td>\n      <td>246420000</td>\n      <td>69</td>\n      <td>31</td>\n      <td>Man</td>\n      <td>50-59</td>\n      <td>NaN</td>\n      <td>60-69</td>\n      <td>Geschat</td>\n      <td>160-169</td>\n      <td>Gemeten</td>\n      <td>Longziekte</td>\n    </tr>\n    <tr>\n      <th>...</th>\n      <td>...</td>\n      <td>...</td>\n      <td>...</td>\n      <td>...</td>\n      <td>...</td>\n      <td>...</td>\n      <td>...</td>\n      <td>...</td>\n      <td>...</td>\n      <td>...</td>\n      <td>...</td>\n      <td>...</td>\n      <td>...</td>\n      <td>...</td>\n      <td>...</td>\n      <td>...</td>\n      <td>...</td>\n      <td>...</td>\n      <td>...</td>\n    </tr>\n    <tr>\n      <th>23096</th>\n      <td>20317</td>\n      <td>23543</td>\n      <td>1</td>\n      <td>IC</td>\n      <td>0</td>\n      <td>None</td>\n      <td>0</td>\n      <td>2003-2009</td>\n      <td>76680000</td>\n      <td>22</td>\n      <td>15</td>\n      <td>None</td>\n      <td>70-79</td>\n      <td>2.888758e+11</td>\n      <td>90-99</td>\n      <td>None</td>\n      <td>170-179</td>\n      <td>None</td>\n      <td>Cardiochirurgie</td>\n    </tr>\n    <tr>\n      <th>23099</th>\n      <td>20320</td>\n      <td>23546</td>\n      <td>1</td>\n      <td>IC</td>\n      <td>1</td>\n      <td>Eerste Hulp afdeling zelfde ziekenhuis</td>\n      <td>0</td>\n      <td>2010-2016</td>\n      <td>351900000</td>\n      <td>98</td>\n      <td>4</td>\n      <td>Man</td>\n      <td>60-69</td>\n      <td>7.254600e+08</td>\n      <td>80-89</td>\n      <td>Geschat</td>\n      <td>190+</td>\n      <td>Geschat</td>\n      <td>Cardiologie</td>\n    </tr>\n    <tr>\n      <th>23100</th>\n      <td>20321</td>\n      <td>23547</td>\n      <td>1</td>\n      <td>IC</td>\n      <td>1</td>\n      <td>None</td>\n      <td>0</td>\n      <td>2003-2009</td>\n      <td>267780000</td>\n      <td>75</td>\n      <td>Overleden</td>\n      <td>Vrouw</td>\n      <td>70-79</td>\n      <td>2.029800e+08</td>\n      <td>80-89</td>\n      <td>Gemeten</td>\n      <td>160-169</td>\n      <td>Gemeten</td>\n      <td>Cardiologie</td>\n    </tr>\n    <tr>\n      <th>23103</th>\n      <td>20324</td>\n      <td>23550</td>\n      <td>1</td>\n      <td>IC</td>\n      <td>1</td>\n      <td>Eerste Hulp afdeling zelfde ziekenhuis</td>\n      <td>0</td>\n      <td>2010-2016</td>\n      <td>69720000</td>\n      <td>20</td>\n      <td>Overleden</td>\n      <td>Man</td>\n      <td>80+</td>\n      <td>-3.564000e+07</td>\n      <td>59-</td>\n      <td>Geschat</td>\n      <td>170-179</td>\n      <td>Geschat</td>\n      <td>Inwendig</td>\n    </tr>\n    <tr>\n      <th>23104</th>\n      <td>20325</td>\n      <td>23551</td>\n      <td>1</td>\n      <td>IC</td>\n      <td>1</td>\n      <td>None</td>\n      <td>0</td>\n      <td>2003-2009</td>\n      <td>165660000</td>\n      <td>46</td>\n      <td>Overleden</td>\n      <td>Vrouw</td>\n      <td>40-49</td>\n      <td>1.155000e+08</td>\n      <td>60-69</td>\n      <td>Geschat</td>\n      <td>160-169</td>\n      <td>Geschat</td>\n      <td>Neurochirurgie</td>\n    </tr>\n  </tbody>\n</table>\n<p>16453 rows × 19 columns</p>\n</div>"
     },
     "execution_count": 6,
     "metadata": {},
     "output_type": "execute_result"
    }
   ],
   "source": [
    "admissions_query = \"\"\"SELECT * FROM admissions\"\"\"\n",
    "admissions = sql_server.execute_read_query(admissions_query)\n",
    "admissions_icu = admissions[admissions['location'] == 'IC']\n",
    "# Remove admissions whose dischargedat = admittedat - Mistakes in the records?\n",
    "admissions_icu = admissions_icu[admissions_icu['dischargedat'] != 0]\n",
    "admissions_icu"
   ],
   "metadata": {
    "collapsed": false
   }
  },
  {
   "cell_type": "markdown",
   "source": [
    "### 3. Retrieve admissions with mechanical ventilation involved\n",
    "Note: Followed from Tariq's SQL queries\n",
    "\n",
    "Apparently `Beademen` means support, ventilation. We consider only invasive\n",
    "mechanical ventilation - exclude non-invasief.\n",
    "\n",
    "Note 2: Why is there `colo-stoma` in processitems' itemid?"
   ],
   "metadata": {
    "collapsed": false
   }
  },
  {
   "cell_type": "code",
   "execution_count": 7,
   "outputs": [
    {
     "data": {
      "text/plain": "       admissionid  itemid      item     start       stop  duration\n0                0    9328  Beademen  20520000   69120000       810\n1                1    9328  Beademen   2100000   26400000       405\n2                2    9328  Beademen    540000   10080000       159\n3                3    9328  Beademen   6840000   32040000       420\n4                4    9328  Beademen   6900000   35460000       476\n...            ...     ...       ...       ...        ...       ...\n18830        23543    9328  Beademen    780000   76680000      1265\n18831        23546    9328  Beademen   3660000  248160000      4075\n18832        23547    9328  Beademen   8580000  267780000      4320\n18833        23548    9328  Beademen   4680000   45180000       675\n18834        23551    9328  Beademen   3900000  165660000      2696\n\n[18471 rows x 6 columns]",
      "text/html": "<div>\n<style scoped>\n    .dataframe tbody tr th:only-of-type {\n        vertical-align: middle;\n    }\n\n    .dataframe tbody tr th {\n        vertical-align: top;\n    }\n\n    .dataframe thead th {\n        text-align: right;\n    }\n</style>\n<table border=\"1\" class=\"dataframe\">\n  <thead>\n    <tr style=\"text-align: right;\">\n      <th></th>\n      <th>admissionid</th>\n      <th>itemid</th>\n      <th>item</th>\n      <th>start</th>\n      <th>stop</th>\n      <th>duration</th>\n    </tr>\n  </thead>\n  <tbody>\n    <tr>\n      <th>0</th>\n      <td>0</td>\n      <td>9328</td>\n      <td>Beademen</td>\n      <td>20520000</td>\n      <td>69120000</td>\n      <td>810</td>\n    </tr>\n    <tr>\n      <th>1</th>\n      <td>1</td>\n      <td>9328</td>\n      <td>Beademen</td>\n      <td>2100000</td>\n      <td>26400000</td>\n      <td>405</td>\n    </tr>\n    <tr>\n      <th>2</th>\n      <td>2</td>\n      <td>9328</td>\n      <td>Beademen</td>\n      <td>540000</td>\n      <td>10080000</td>\n      <td>159</td>\n    </tr>\n    <tr>\n      <th>3</th>\n      <td>3</td>\n      <td>9328</td>\n      <td>Beademen</td>\n      <td>6840000</td>\n      <td>32040000</td>\n      <td>420</td>\n    </tr>\n    <tr>\n      <th>4</th>\n      <td>4</td>\n      <td>9328</td>\n      <td>Beademen</td>\n      <td>6900000</td>\n      <td>35460000</td>\n      <td>476</td>\n    </tr>\n    <tr>\n      <th>...</th>\n      <td>...</td>\n      <td>...</td>\n      <td>...</td>\n      <td>...</td>\n      <td>...</td>\n      <td>...</td>\n    </tr>\n    <tr>\n      <th>18830</th>\n      <td>23543</td>\n      <td>9328</td>\n      <td>Beademen</td>\n      <td>780000</td>\n      <td>76680000</td>\n      <td>1265</td>\n    </tr>\n    <tr>\n      <th>18831</th>\n      <td>23546</td>\n      <td>9328</td>\n      <td>Beademen</td>\n      <td>3660000</td>\n      <td>248160000</td>\n      <td>4075</td>\n    </tr>\n    <tr>\n      <th>18832</th>\n      <td>23547</td>\n      <td>9328</td>\n      <td>Beademen</td>\n      <td>8580000</td>\n      <td>267780000</td>\n      <td>4320</td>\n    </tr>\n    <tr>\n      <th>18833</th>\n      <td>23548</td>\n      <td>9328</td>\n      <td>Beademen</td>\n      <td>4680000</td>\n      <td>45180000</td>\n      <td>675</td>\n    </tr>\n    <tr>\n      <th>18834</th>\n      <td>23551</td>\n      <td>9328</td>\n      <td>Beademen</td>\n      <td>3900000</td>\n      <td>165660000</td>\n      <td>2696</td>\n    </tr>\n  </tbody>\n</table>\n<p>18471 rows × 6 columns</p>\n</div>"
     },
     "execution_count": 7,
     "metadata": {},
     "output_type": "execute_result"
    }
   ],
   "source": [
    "is_ventilation_query = \"\"\"\n",
    "    SELECT * FROM processitems\n",
    "    WHERE itemid IN (\n",
    "        9328, --Beademen\n",
    "        10731 --Beademen non-invasief\n",
    "    )\n",
    "    \"\"\"\n",
    "ventilation = sql_server.execute_read_query(is_ventilation_query)\n",
    "ventilation = ventilation[ventilation['item'] == 'Beademen']\n",
    "ventilation"
   ],
   "metadata": {
    "collapsed": false
   }
  },
  {
   "cell_type": "markdown",
   "source": [
    "### 4. Combine ICU admissions and ventilation times"
   ],
   "metadata": {
    "collapsed": false
   }
  },
  {
   "cell_type": "code",
   "execution_count": 9,
   "outputs": [
    {
     "name": "stderr",
     "output_type": "stream",
     "text": [
      "100%|██████████| 14084/14084 [00:16<00:00, 834.47it/s]\n"
     ]
    },
    {
     "data": {
      "text/plain": "       patientid  admissionid  admissioncount location  urgency  \\\n0              0            0               1       IC        0   \n1              0            0               1       IC        0   \n2              1            1               1       IC        0   \n3              1            1               1       IC        0   \n4              2            2               1       IC        1   \n...          ...          ...             ...      ...      ...   \n31191      20320        23546               1       IC        1   \n31192      20321        23547               1       IC        1   \n31193      20321        23547               1       IC        1   \n31194      20325        23551               1       IC        1   \n31195      20325        23551               1       IC        1   \n\n                                       origin  admittedat admissionyeargroup  \\\n0                                        None           0          2003-2009   \n1                                        None           0          2003-2009   \n2                                        None           0          2010-2016   \n3                                        None           0          2010-2016   \n4      Eerste Hulp afdeling zelfde ziekenhuis           0          2010-2016   \n...                                       ...         ...                ...   \n31191  Eerste Hulp afdeling zelfde ziekenhuis           0          2010-2016   \n31192                                    None           0          2003-2009   \n31193                                    None           0          2003-2009   \n31194                                    None           0          2003-2009   \n31195                                    None           0          2003-2009   \n\n       dischargedat  lengthofstay  ... gender agegroup  dateofdeath  \\\n0         148800000            42  ...  Vrouw      80+          NaN   \n1         148800000            42  ...  Vrouw      80+          NaN   \n2          96120000            26  ...    Man    60-69          NaN   \n3          96120000            26  ...    Man    60-69          NaN   \n4          84240000            23  ...    Man    60-69          NaN   \n...             ...           ...  ...    ...      ...          ...   \n31191     351900000            98  ...    Man    60-69  725460000.0   \n31192     267780000            75  ...  Vrouw    70-79  202980000.0   \n31193     267780000            75  ...  Vrouw    70-79  202980000.0   \n31194     165660000            46  ...  Vrouw    40-49  115500000.0   \n31195     165660000            46  ...  Vrouw    40-49  115500000.0   \n\n       weightgroup  weightsource heightgroup  heightsource        specialty  \\\n0            60-69  Anamnestisch     160-169  Anamnestisch  Cardiochirurgie   \n1            60-69  Anamnestisch     160-169  Anamnestisch  Cardiochirurgie   \n2            70-79  Anamnestisch     170-179  Anamnestisch  Cardiochirurgie   \n3            70-79  Anamnestisch     170-179  Anamnestisch  Cardiochirurgie   \n4            90-99  Anamnestisch     180-189  Anamnestisch  Cardiochirurgie   \n...            ...           ...         ...           ...              ...   \n31191        80-89       Geschat        190+       Geschat      Cardiologie   \n31192        80-89       Gemeten     160-169       Gemeten      Cardiologie   \n31193        80-89       Gemeten     160-169       Gemeten      Cardiologie   \n31194        60-69       Geschat     160-169       Geschat   Neurochirurgie   \n31195        60-69       Geschat     160-169       Geschat   Neurochirurgie   \n\n      init_unventilated  end_unventilated  \n0                     0          20520000  \n1              69120000         148800000  \n2                     0           2100000  \n3              26400000          96120000  \n4                     0            540000  \n...                 ...               ...  \n31191         248160000         351900000  \n31192                 0           8580000  \n31193         267780000         267780000  \n31194                 0           3900000  \n31195         165660000         165660000  \n\n[33565 rows x 21 columns]",
      "text/html": "<div>\n<style scoped>\n    .dataframe tbody tr th:only-of-type {\n        vertical-align: middle;\n    }\n\n    .dataframe tbody tr th {\n        vertical-align: top;\n    }\n\n    .dataframe thead th {\n        text-align: right;\n    }\n</style>\n<table border=\"1\" class=\"dataframe\">\n  <thead>\n    <tr style=\"text-align: right;\">\n      <th></th>\n      <th>patientid</th>\n      <th>admissionid</th>\n      <th>admissioncount</th>\n      <th>location</th>\n      <th>urgency</th>\n      <th>origin</th>\n      <th>admittedat</th>\n      <th>admissionyeargroup</th>\n      <th>dischargedat</th>\n      <th>lengthofstay</th>\n      <th>...</th>\n      <th>gender</th>\n      <th>agegroup</th>\n      <th>dateofdeath</th>\n      <th>weightgroup</th>\n      <th>weightsource</th>\n      <th>heightgroup</th>\n      <th>heightsource</th>\n      <th>specialty</th>\n      <th>init_unventilated</th>\n      <th>end_unventilated</th>\n    </tr>\n  </thead>\n  <tbody>\n    <tr>\n      <th>0</th>\n      <td>0</td>\n      <td>0</td>\n      <td>1</td>\n      <td>IC</td>\n      <td>0</td>\n      <td>None</td>\n      <td>0</td>\n      <td>2003-2009</td>\n      <td>148800000</td>\n      <td>42</td>\n      <td>...</td>\n      <td>Vrouw</td>\n      <td>80+</td>\n      <td>NaN</td>\n      <td>60-69</td>\n      <td>Anamnestisch</td>\n      <td>160-169</td>\n      <td>Anamnestisch</td>\n      <td>Cardiochirurgie</td>\n      <td>0</td>\n      <td>20520000</td>\n    </tr>\n    <tr>\n      <th>1</th>\n      <td>0</td>\n      <td>0</td>\n      <td>1</td>\n      <td>IC</td>\n      <td>0</td>\n      <td>None</td>\n      <td>0</td>\n      <td>2003-2009</td>\n      <td>148800000</td>\n      <td>42</td>\n      <td>...</td>\n      <td>Vrouw</td>\n      <td>80+</td>\n      <td>NaN</td>\n      <td>60-69</td>\n      <td>Anamnestisch</td>\n      <td>160-169</td>\n      <td>Anamnestisch</td>\n      <td>Cardiochirurgie</td>\n      <td>69120000</td>\n      <td>148800000</td>\n    </tr>\n    <tr>\n      <th>2</th>\n      <td>1</td>\n      <td>1</td>\n      <td>1</td>\n      <td>IC</td>\n      <td>0</td>\n      <td>None</td>\n      <td>0</td>\n      <td>2010-2016</td>\n      <td>96120000</td>\n      <td>26</td>\n      <td>...</td>\n      <td>Man</td>\n      <td>60-69</td>\n      <td>NaN</td>\n      <td>70-79</td>\n      <td>Anamnestisch</td>\n      <td>170-179</td>\n      <td>Anamnestisch</td>\n      <td>Cardiochirurgie</td>\n      <td>0</td>\n      <td>2100000</td>\n    </tr>\n    <tr>\n      <th>3</th>\n      <td>1</td>\n      <td>1</td>\n      <td>1</td>\n      <td>IC</td>\n      <td>0</td>\n      <td>None</td>\n      <td>0</td>\n      <td>2010-2016</td>\n      <td>96120000</td>\n      <td>26</td>\n      <td>...</td>\n      <td>Man</td>\n      <td>60-69</td>\n      <td>NaN</td>\n      <td>70-79</td>\n      <td>Anamnestisch</td>\n      <td>170-179</td>\n      <td>Anamnestisch</td>\n      <td>Cardiochirurgie</td>\n      <td>26400000</td>\n      <td>96120000</td>\n    </tr>\n    <tr>\n      <th>4</th>\n      <td>2</td>\n      <td>2</td>\n      <td>1</td>\n      <td>IC</td>\n      <td>1</td>\n      <td>Eerste Hulp afdeling zelfde ziekenhuis</td>\n      <td>0</td>\n      <td>2010-2016</td>\n      <td>84240000</td>\n      <td>23</td>\n      <td>...</td>\n      <td>Man</td>\n      <td>60-69</td>\n      <td>NaN</td>\n      <td>90-99</td>\n      <td>Anamnestisch</td>\n      <td>180-189</td>\n      <td>Anamnestisch</td>\n      <td>Cardiochirurgie</td>\n      <td>0</td>\n      <td>540000</td>\n    </tr>\n    <tr>\n      <th>...</th>\n      <td>...</td>\n      <td>...</td>\n      <td>...</td>\n      <td>...</td>\n      <td>...</td>\n      <td>...</td>\n      <td>...</td>\n      <td>...</td>\n      <td>...</td>\n      <td>...</td>\n      <td>...</td>\n      <td>...</td>\n      <td>...</td>\n      <td>...</td>\n      <td>...</td>\n      <td>...</td>\n      <td>...</td>\n      <td>...</td>\n      <td>...</td>\n      <td>...</td>\n      <td>...</td>\n    </tr>\n    <tr>\n      <th>31191</th>\n      <td>20320</td>\n      <td>23546</td>\n      <td>1</td>\n      <td>IC</td>\n      <td>1</td>\n      <td>Eerste Hulp afdeling zelfde ziekenhuis</td>\n      <td>0</td>\n      <td>2010-2016</td>\n      <td>351900000</td>\n      <td>98</td>\n      <td>...</td>\n      <td>Man</td>\n      <td>60-69</td>\n      <td>725460000.0</td>\n      <td>80-89</td>\n      <td>Geschat</td>\n      <td>190+</td>\n      <td>Geschat</td>\n      <td>Cardiologie</td>\n      <td>248160000</td>\n      <td>351900000</td>\n    </tr>\n    <tr>\n      <th>31192</th>\n      <td>20321</td>\n      <td>23547</td>\n      <td>1</td>\n      <td>IC</td>\n      <td>1</td>\n      <td>None</td>\n      <td>0</td>\n      <td>2003-2009</td>\n      <td>267780000</td>\n      <td>75</td>\n      <td>...</td>\n      <td>Vrouw</td>\n      <td>70-79</td>\n      <td>202980000.0</td>\n      <td>80-89</td>\n      <td>Gemeten</td>\n      <td>160-169</td>\n      <td>Gemeten</td>\n      <td>Cardiologie</td>\n      <td>0</td>\n      <td>8580000</td>\n    </tr>\n    <tr>\n      <th>31193</th>\n      <td>20321</td>\n      <td>23547</td>\n      <td>1</td>\n      <td>IC</td>\n      <td>1</td>\n      <td>None</td>\n      <td>0</td>\n      <td>2003-2009</td>\n      <td>267780000</td>\n      <td>75</td>\n      <td>...</td>\n      <td>Vrouw</td>\n      <td>70-79</td>\n      <td>202980000.0</td>\n      <td>80-89</td>\n      <td>Gemeten</td>\n      <td>160-169</td>\n      <td>Gemeten</td>\n      <td>Cardiologie</td>\n      <td>267780000</td>\n      <td>267780000</td>\n    </tr>\n    <tr>\n      <th>31194</th>\n      <td>20325</td>\n      <td>23551</td>\n      <td>1</td>\n      <td>IC</td>\n      <td>1</td>\n      <td>None</td>\n      <td>0</td>\n      <td>2003-2009</td>\n      <td>165660000</td>\n      <td>46</td>\n      <td>...</td>\n      <td>Vrouw</td>\n      <td>40-49</td>\n      <td>115500000.0</td>\n      <td>60-69</td>\n      <td>Geschat</td>\n      <td>160-169</td>\n      <td>Geschat</td>\n      <td>Neurochirurgie</td>\n      <td>0</td>\n      <td>3900000</td>\n    </tr>\n    <tr>\n      <th>31195</th>\n      <td>20325</td>\n      <td>23551</td>\n      <td>1</td>\n      <td>IC</td>\n      <td>1</td>\n      <td>None</td>\n      <td>0</td>\n      <td>2003-2009</td>\n      <td>165660000</td>\n      <td>46</td>\n      <td>...</td>\n      <td>Vrouw</td>\n      <td>40-49</td>\n      <td>115500000.0</td>\n      <td>60-69</td>\n      <td>Geschat</td>\n      <td>160-169</td>\n      <td>Geschat</td>\n      <td>Neurochirurgie</td>\n      <td>165660000</td>\n      <td>165660000</td>\n    </tr>\n  </tbody>\n</table>\n<p>33565 rows × 21 columns</p>\n</div>"
     },
     "execution_count": 9,
     "metadata": {},
     "output_type": "execute_result"
    }
   ],
   "source": [
    "from mechanical_ventilation import no_mechvent_admissiontimes\n",
    "icu_adms_not_mechvent = no_mechvent_admissiontimes(\n",
    "    icu=admissions_icu,\n",
    "    vent=ventilation\n",
    ")\n",
    "icu_adms_not_mechvent"
   ],
   "metadata": {
    "collapsed": false
   }
  },
  {
   "cell_type": "markdown",
   "source": [
    "### 5. Close local server"
   ],
   "metadata": {
    "collapsed": false
   }
  },
  {
   "cell_type": "code",
   "execution_count": 10,
   "outputs": [
    {
     "name": "stdout",
     "output_type": "stream",
     "text": [
      "Connection to SQLite DB closed\n"
     ]
    }
   ],
   "source": [
    "sql_server.close()"
   ],
   "metadata": {
    "collapsed": false
   }
  },
  {
   "cell_type": "markdown",
   "source": [
    "### Visual inspection of some splits"
   ],
   "metadata": {
    "collapsed": false
   }
  },
  {
   "cell_type": "code",
   "execution_count": 19,
   "outputs": [],
   "source": [
    "adcols = ['admissionid', 'admittedat', 'dischargedat']\n",
    "rescols = ['admissionid', 'init_unventilated', 'end_unventilated']"
   ],
   "metadata": {
    "collapsed": false
   }
  },
  {
   "cell_type": "markdown",
   "source": [
    "#### a) Case mechanical ventilation is located within admission"
   ],
   "metadata": {
    "collapsed": false
   }
  },
  {
   "cell_type": "code",
   "execution_count": 20,
   "outputs": [
    {
     "name": "stdout",
     "output_type": "stream",
     "text": [
      "ICU Admission Data:\n",
      "   admissionid  admittedat  dischargedat\n",
      "0            0           0     148800000\n",
      "\n",
      "> Ventilation times for this admissionid:\n",
      "   admissionid  itemid      item     start      stop  duration\n",
      "0            0    9328  Beademen  20520000  69120000       810\n",
      "\n",
      "> Computed final valid times:\n",
      "   admissionid  init_unventilated  end_unventilated\n",
      "0            0                  0          20520000\n",
      "1            0           69120000         148800000\n"
     ]
    }
   ],
   "source": [
    "admin = 0\n",
    "print('ICU Admission Data:')\n",
    "print(admissions_icu[admissions_icu['admissionid'] == admin][adcols])\n",
    "print('\\n> Ventilation times for this admissionid:')\n",
    "print(ventilation[ventilation['admissionid'] == admin])\n",
    "print('\\n> Computed final valid times:')\n",
    "print(icu_adms_not_mechvent[icu_adms_not_mechvent['admissionid'] ==\n",
    "                            admin][rescols])"
   ],
   "metadata": {
    "collapsed": false
   }
  },
  {
   "cell_type": "markdown",
   "source": [
    "#### b) Mech. ventilation left even after discharge"
   ],
   "metadata": {
    "collapsed": false
   }
  },
  {
   "cell_type": "code",
   "execution_count": 21,
   "outputs": [
    {
     "name": "stdout",
     "output_type": "stream",
     "text": [
      "ICU Admission Data:\n",
      "     admissionid  admittedat  dischargedat\n",
      "115          115           0      85500000\n",
      "\n",
      "> Ventilation times for this admissionid:\n",
      "    admissionid  itemid      item    start       stop  duration\n",
      "84          115    9328  Beademen  6300000  104460000      1636\n",
      "\n",
      "> Computed final valid times:\n",
      "     admissionid  init_unventilated  end_unventilated\n",
      "146          115                  0           6300000\n"
     ]
    }
   ],
   "source": [
    "admin = 115\n",
    "print('ICU Admission Data:')\n",
    "print(admissions_icu[admissions_icu['admissionid'] == admin][adcols])\n",
    "print('\\n> Ventilation times for this admissionid:')\n",
    "print(ventilation[ventilation['admissionid'] == admin])\n",
    "print('\\n> Computed final valid times:')\n",
    "print(icu_adms_not_mechvent[icu_adms_not_mechvent['admissionid'] ==\n",
    "                            admin][rescols])"
   ],
   "metadata": {
    "collapsed": false
   }
  },
  {
   "cell_type": "markdown",
   "source": [
    "#### c) Mech. ventilation started before admission, removed before discharge\n"
   ],
   "metadata": {
    "collapsed": false
   }
  },
  {
   "cell_type": "code",
   "execution_count": 22,
   "outputs": [
    {
     "name": "stdout",
     "output_type": "stream",
     "text": [
      "ICU Admission Data:\n",
      "      admissionid  admittedat  dischargedat\n",
      "3498         3580           0      79140000\n",
      "\n",
      "> Ventilation times for this admissionid:\n",
      "      admissionid  itemid      item   start      stop  duration\n",
      "2810         3580    9328  Beademen -600000  28200000       480\n",
      "\n",
      "> Computed final valid times:\n",
      "      admissionid  init_unventilated  end_unventilated\n",
      "4643         3580           28200000          79140000\n"
     ]
    }
   ],
   "source": [
    "admin = 3580\n",
    "print('ICU Admission Data:')\n",
    "print(admissions_icu[admissions_icu['admissionid'] == admin][adcols])\n",
    "print('\\n> Ventilation times for this admissionid:')\n",
    "print(ventilation[ventilation['admissionid'] == admin])\n",
    "print('\\n> Computed final valid times:')\n",
    "print(icu_adms_not_mechvent[icu_adms_not_mechvent['admissionid'] ==\n",
    "                            admin][rescols])"
   ],
   "metadata": {
    "collapsed": false
   }
  },
  {
   "cell_type": "markdown",
   "source": [
    "#### d) Potential errors? Mech. Vent. connected and removed before admission"
   ],
   "metadata": {
    "collapsed": false
   }
  },
  {
   "cell_type": "code",
   "execution_count": 23,
   "outputs": [
    {
     "name": "stdout",
     "output_type": "stream",
     "text": [
      "ICU Admission Data:\n",
      "      admissionid  admittedat  dischargedat\n",
      "4533         4630  1231560000    1256340000\n",
      "\n",
      "Ventilation times for this admissionid:\n",
      "      admissionid  itemid      item      start        stop  duration\n",
      "3683         4630    9328  Beademen  521700000  1222980000     11688\n",
      "\n",
      "Computed final valid times:\n",
      "      admissionid  init_unventilated  end_unventilated\n",
      "6082         4630         1231560000        1256340000\n"
     ]
    }
   ],
   "source": [
    "admin = 4630\n",
    "print('ICU Admission Data:')\n",
    "print(admissions_icu[admissions_icu['admissionid'] == admin][adcols])\n",
    "print('\\nVentilation times for this admissionid:')\n",
    "print(ventilation[ventilation['admissionid'] == admin])\n",
    "print('\\nComputed final valid times:')\n",
    "print(icu_adms_not_mechvent[icu_adms_not_mechvent['admissionid'] ==\n",
    "                            admin][rescols])"
   ],
   "metadata": {
    "collapsed": false
   }
  },
  {
   "cell_type": "markdown",
   "source": [],
   "metadata": {
    "collapsed": false
   }
  }
 ],
 "metadata": {
  "kernelspec": {
   "display_name": "Python 3",
   "language": "python",
   "name": "python3"
  },
  "language_info": {
   "codemirror_mode": {
    "name": "ipython",
    "version": 2
   },
   "file_extension": ".py",
   "mimetype": "text/x-python",
   "name": "python",
   "nbconvert_exporter": "python",
   "pygments_lexer": "ipython2",
   "version": "2.7.6"
  }
 },
 "nbformat": 4,
 "nbformat_minor": 0
}
